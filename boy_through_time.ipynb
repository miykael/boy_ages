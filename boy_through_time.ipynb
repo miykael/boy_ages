{
 "cells": [
  {
   "cell_type": "markdown",
   "metadata": {
    "id": "LKsK58ZOyPnJ"
   },
   "source": [
    "# Boy through time\n",
    "\n",
    "This notebook can be used to temporally average images of an aging person, similar to what was done for miykael's [Noah ages](https://github.com/miykael/noah_ages) project. In short, we use the [dlib](http://dlib.net/) toolbox to detect, extract and align faces from all images. The process to do so is a multi-step process:\n",
    "\n",
    "1. We use `hog_detector` detector to find the faces in all images. This detector is 'ok-ish' and has the advantage of running very quickly.\n",
    "2. After running the first face detector, manual inspection of all aligned images needs to be performed and faulty/misaligned images need to be deleted.\n",
    "3. For all images that were faulty or where the face wasn't detect, we now use the `cnn_face_detection_model_v1` routine to hopefully correct that. This routine is much slower but more accurate and capable.\n",
    "4. Another manual inspection needs to be performed to remove faulty and misaligned images.\n",
    "5. Images where both face detector algorithms failed, manual alignmed needs to be performed. Furthermore, dates of missing images can/should be filled up to have one image for every day.\n",
    "\n",
    "**Side note** about how it works: Dlib's face detection is usually used to extract small 'chips'/patches of pixels that only contain the face. In this case however we decided to keep the full image, but just profit from dlib's routine of aligning the faces according to the 5 landmarks (two eyes, nose and two corners of the mouth). During this procedure, images can also be rescaled to any resolution."
   ]
  },
  {
   "cell_type": "markdown",
   "metadata": {
    "id": "UyHz916DyPnK"
   },
   "source": [
    "## 1. Setup environment\n",
    "\n",
    "Before we can start we need to make sure that all relevant packages are installed. We can do this using `pip`."
   ]
  },
  {
   "cell_type": "code",
   "execution_count": null,
   "metadata": {},
   "outputs": [],
   "source": [
    "!pip install -Uq  dlib~=19.24 matplotlib~=3.8 numpy~=1.26 opencv-python~=4.9 pathlib~=1.0 Pillow~=10.0 scikit-image~=0.22 tqdm~=4.66 pandas"
   ]
  },
  {
   "cell_type": "markdown",
   "metadata": {
    "id": "xT8XLGfz5gF1"
   },
   "source": [
    "Collect relevant folders and files from github repository. This is only needed when you don't run the notebook from within the repo, e.g. running it via colab."
   ]
  },
  {
   "cell_type": "code",
   "execution_count": null,
   "metadata": {
    "colab": {
     "base_uri": "https://localhost:8080/"
    },
    "id": "P8s6NbYT5d37",
    "outputId": "f1ae77ab-b8fb-4ed4-84c8-87f14843ee31"
   },
   "outputs": [],
   "source": [
    "# Get github repository data - needed for when you run it via google's colab\n",
    "!git clone https://github.com/miykael/boy_ages.git"
   ]
  },
  {
   "cell_type": "markdown",
   "metadata": {
    "id": "N64UtWQQyPnK"
   },
   "source": [
    "## 1.1. Import relevant packages"
   ]
  },
  {
   "cell_type": "code",
   "execution_count": null,
   "metadata": {
    "id": "bHHpUjiRyPnK"
   },
   "outputs": [],
   "source": [
    "from pathlib import Path\n",
    "import os\n",
    "import cv2\n",
    "import numpy as np\n",
    "import pandas as pd\n",
    "import matplotlib.pyplot as plt\n",
    "import shutil\n",
    "from skimage import io, transform\n",
    "from glob import glob\n",
    "from matplotlib import patches\n",
    "\n",
    "from tqdm.notebook import tqdm\n",
    "import dlib\n",
    "from PIL import Image, ImageDraw, ImageFont"
   ]
  },
  {
   "cell_type": "markdown",
   "metadata": {
    "id": "seUGhjbuyPnL"
   },
   "source": [
    "## 1.2. Specify relevant parameters"
   ]
  },
  {
   "cell_type": "code",
   "execution_count": null,
   "metadata": {
    "id": "GF96gySMyPnL"
   },
   "outputs": [],
   "source": [
    "# Filename structure all images have to have to be considered\n",
    "file_identifier = \"PXL_*.jpg\"\n",
    "\n",
    "# Define size of face chip (maximum width or height of raw image)\n",
    "max_size = 4320\n",
    "\n",
    "# Downsample factor for face finding\n",
    "downsample = 2"
   ]
  },
  {
   "cell_type": "markdown",
   "metadata": {
    "id": "rNUKe69wyPnL"
   },
   "source": [
    "## 1.3. Establish paths to images\n",
    "\n",
    "The code in this notebook should run slightly different, depending on if you are running this notebook in google colab or not. So let's detect this:"
   ]
  },
  {
   "cell_type": "code",
   "execution_count": null,
   "metadata": {},
   "outputs": [],
   "source": [
    "try:\n",
    "    import google.colab\n",
    "\n",
    "    IN_COLAB = True\n",
    "except:\n",
    "    IN_COLAB = False"
   ]
  },
  {
   "cell_type": "code",
   "execution_count": null,
   "metadata": {
    "colab": {
     "base_uri": "https://localhost:8080/"
    },
    "id": "Gy9Ckr_z3BT_",
    "outputId": "eaa8a752-83da-47ed-c838-6b432dd438cc"
   },
   "outputs": [],
   "source": [
    "if IN_COLAB:\n",
    "    # Get photo filenames from google drive\n",
    "    from google.colab import drive\n",
    "\n",
    "    gdrive = \"/content/gdrive/\"\n",
    "    drive.mount(gdrive, force_remount=True)\n",
    "\n",
    "    # Path to folder of original photos\n",
    "    basename = Path(f\"{gdrive}/MyDrive/photos_child\")\n",
    "\n",
    "else:\n",
    "    # Path to local folder\n",
    "    basename = Path(\"c:/Users/brend/desktop/cartertimelapse/photos_child/\")"
   ]
  },
  {
   "cell_type": "code",
   "execution_count": null,
   "metadata": {
    "colab": {
     "base_uri": "https://localhost:8080/"
    },
    "id": "vow6BfFUyPnL",
    "outputId": "4aca7399-1cae-473b-edc3-1e59731a7bea"
   },
   "outputs": [],
   "source": [
    "# Collect file names of original photos\n",
    "filenames = sorted(basename.glob(file_identifier))\n",
    "n_files = len(filenames)\n",
    "print(f\"{n_files} images were found, representing {n_files / 365.25:.2f} years.\")"
   ]
  },
  {
   "cell_type": "code",
   "execution_count": null,
   "metadata": {
    "id": "X-iphCtG3GLj"
   },
   "outputs": [],
   "source": [
    "# Create output folder for aligned images\n",
    "out_dir = basename.parent / f\"{basename.name}_aligned\"\n",
    "if not out_dir.exists():\n",
    "    out_dir.mkdir(parents=True, exist_ok=True)"
   ]
  },
  {
   "cell_type": "markdown",
   "metadata": {},
   "source": [
    "## 1.4. Identify duplicates and missing dates\n",
    "\n",
    "Based on the filenames, let's identify missing photos and duplicates."
   ]
  },
  {
   "cell_type": "code",
   "execution_count": null,
   "metadata": {},
   "outputs": [],
   "source": [
    "# Collect dates from the filenames\n",
    "dates = [f.name.split(\"PXL_\")[1][:8] for f in filenames]"
   ]
  },
  {
   "cell_type": "code",
   "execution_count": null,
   "metadata": {},
   "outputs": [],
   "source": [
    "# List all duplicates\n",
    "duplicate_dates = pd.Series(dates).value_counts()\n",
    "duplicates = duplicate_dates[duplicate_dates.gt(1)].sort_index().index.values\n",
    "print(f\"Duplicates were found for the following dates:\\n{duplicates}\")\n",
    "print(\"Please make sure to only have one entry per date.\")"
   ]
  },
  {
   "cell_type": "markdown",
   "metadata": {},
   "source": [
    "Next, let's identify missing dates."
   ]
  },
  {
   "cell_type": "code",
   "execution_count": null,
   "metadata": {},
   "outputs": [],
   "source": [
    "# Convert to pandas DateTime\n",
    "dates_pd = pd.to_datetime(dates, format=\"%Y%m%d\")\n",
    "\n",
    "# Generate a complete date range\n",
    "date_range = pd.date_range(start=dates_pd.min(), end=dates_pd.max())\n",
    "\n",
    "# Identify missing dates by finding dates in the complete range not in the original series\n",
    "missing_dates = date_range.difference(dates_pd)\n",
    "\n",
    "print(f\"Missing dates can be found for the following dates:\\n{missing_dates}\")"
   ]
  },
  {
   "cell_type": "markdown",
   "metadata": {},
   "source": [
    "Once all duplicates were removed (or renamed) and the missing dates were filled, you are good to move on to the next section."
   ]
  },
  {
   "cell_type": "markdown",
   "metadata": {
    "id": "3FXE0wQdyPnL"
   },
   "source": [
    "# 2. Face alignment\n",
    "\n",
    "Automatic face detection (with additional manual correction) using `dlib` and `skimage`."
   ]
  },
  {
   "cell_type": "code",
   "execution_count": null,
   "metadata": {
    "id": "HD23HfnNyPnL"
   },
   "outputs": [],
   "source": [
    "if IN_COLAB:\n",
    "    dlib_path = \"boy_ages/dlib_dat\"\n",
    "else:\n",
    "    dlib_path = \"dlib_dat\"\n",
    "\n",
    "# Load dlib models for face recognition\n",
    "shape_predictor = dlib.shape_predictor(f\"{dlib_path}/shape_predictor_5_face_landmarks.dat\")  # Faces landmarks (points)\n",
    "\n",
    "# Define which face detector to use\n",
    "hog_detector = dlib.get_frontal_face_detector()\n",
    "cnn_detector = dlib.cnn_face_detection_model_v1(f\"{dlib_path}/mmod_human_face_detector.dat\")"
   ]
  },
  {
   "cell_type": "markdown",
   "metadata": {
    "id": "Noo79nyOyPnL"
   },
   "source": [
    "## 2.1. Face detection - pass 1: Using `hog_detector`"
   ]
  },
  {
   "cell_type": "code",
   "execution_count": null,
   "metadata": {
    "id": "3qWzB4--yPnL"
   },
   "outputs": [],
   "source": [
    "# CNN is more advanced but takes longer; hog misses ~10% faces in total\n",
    "face_detector = hog_detector"
   ]
  },
  {
   "cell_type": "code",
   "execution_count": null,
   "metadata": {
    "colab": {
     "base_uri": "https://localhost:8080/",
     "height": 49,
     "referenced_widgets": [
      "81d82a5d97d0418e8b5b4ee26034512a",
      "9defc6a2222f4c8cbcbca5737914c7bd",
      "f44c618489c54bc6bdb7f9aeb69add45",
      "865673bb21324467ae0486ac7acf5bb5",
      "00eed77860264e548fec56b3f10ad242",
      "e00d3afe37114136aa77186bf656c0e2",
      "d2fe1627637d46dd85433cb277ae3595",
      "21aedc80399140e9b7d51717d2835651",
      "2287cf0fed86493880f3b428960c8cee",
      "55bb59a8f5f547ac91cdb04e326be604",
      "13aa8e0924634617b1914177b12507bc"
     ]
    },
    "id": "pxh-HouwyPnL",
    "outputId": "beaad571-42fb-4055-cedd-c58b6bb58d67"
   },
   "outputs": [],
   "source": [
    "# Loop through all images\n",
    "for fdx, f in enumerate(tqdm(filenames)):\n",
    "    # Specify output filename\n",
    "    out_filename = out_dir / f.name\n",
    "\n",
    "    # Skip image processing if output file was already created\n",
    "    if out_filename.exists() or (out_dir / f\"PXL_{dates[fdx]}x.jpg\").exists():\n",
    "        continue\n",
    "\n",
    "    # Load image\n",
    "    im = io.imread(f)[..., :3]\n",
    "\n",
    "    # Get information about image size\n",
    "    w, h = im.shape[:2]\n",
    "    w_offset = (max_size - w) // 2\n",
    "    h_offset = (max_size - h) // 2\n",
    "\n",
    "    # Center image in a canvas\n",
    "    canvas = np.zeros((max_size, max_size, 3)).astype(\"uint8\")\n",
    "    canvas[w_offset : w_offset + w, h_offset : h_offset + h, :] = im\n",
    "\n",
    "    # Detect faces and align image\n",
    "    rectangles = [x if isinstance(x, dlib.rectangle) else x.rect for x in face_detector(canvas, 1)]\n",
    "    if len(rectangles):\n",
    "        landmarks = [shape_predictor(canvas, r) for r in rectangles]\n",
    "        face_chips = [dlib.get_face_chip(canvas, l, size=max_size // downsample, padding=1) for l in landmarks]\n",
    "\n",
    "        # Save aligned image\n",
    "        io.imsave(out_filename, face_chips[0])\n",
    "\n",
    "    else:\n",
    "        print(\"No face found in\", f)\n",
    "        \n",
    "        # Rescale canvas\n",
    "        canvas_rescaled = transform.rescale(canvas, 1./downsample, anti_aliasing=True, channel_axis=-1)\n",
    "        canvas_rescaled = (canvas_rescaled * 255).astype('uint8')\n",
    "\n",
    "        # Store image to out_folder\n",
    "        new_out_filename = out_dir / f\"PXL_{dates[fdx]}x_no-face-found.jpg\"\n",
    "        io.imsave(new_out_filename, canvas_rescaled)"
   ]
  },
  {
   "cell_type": "markdown",
   "metadata": {
    "id": "VV2DaCpGyPnM"
   },
   "source": [
    "## 2.2. Manual correction - pass 1\n",
    "\n",
    "Have a look at the files in the `..._aligned` folder. In those cases where the face wasn't detected or the rotation was wrong, delete the file. The code below will then try to detect the face with a more advanced algorithm."
   ]
  },
  {
   "cell_type": "markdown",
   "metadata": {
    "id": "RHeWejEvyPnM"
   },
   "source": [
    "## 2.3. Face detection - pass 2: Using `cnn_detector`"
   ]
  },
  {
   "cell_type": "code",
   "execution_count": null,
   "metadata": {
    "id": "ZYqT67kRyPnM"
   },
   "outputs": [],
   "source": [
    "# CNN is more advanced but takes much longer\n",
    "face_detector = cnn_detector"
   ]
  },
  {
   "cell_type": "code",
   "execution_count": null,
   "metadata": {
    "colab": {
     "base_uri": "https://localhost:8080/",
     "height": 49,
     "referenced_widgets": [
      "95daf3b40eef4d9fbc6e27b005367c44",
      "78dcae420ae0450e96de3c697ba9f7d1",
      "d823f423ef9f447cafc43494a8f31991",
      "54a1ba489aaf4b5d9cc856f267564bb9",
      "41fdf0288abe4dcf8f4599fddfe1a66c",
      "8dd3f7bb1c104294993e0cfbd519a6d1",
      "5f7edaf201484839b8c96e9f1ddf9249",
      "a8d530263134435e8ff053c06c3ea831",
      "06544b4d66dc45c7951372cba99df5f2",
      "8091790c24914135af23e0274de1d01e",
      "559131d5804349298ac083839d62a2bc"
     ]
    },
    "id": "_SfhqlpsyPnM",
    "outputId": "c56f39ba-39e6-48f8-db8a-b18e297da297"
   },
   "outputs": [],
   "source": [
    "# Loop through all images\n",
    "for fdx, f in enumerate(tqdm(filenames)):\n",
    "    # Specify output filename\n",
    "    out_filename = out_dir / f.name\n",
    "\n",
    "    # Skip image processing if output file was already created\n",
    "    if out_filename.exists() or (out_dir / f\"PXL_{dates[fdx]}x.jpg\").exists():\n",
    "        continue\n",
    "\n",
    "    # Load image\n",
    "    im = io.imread(f)[..., :3]\n",
    "\n",
    "    # Get information about image size\n",
    "    w, h = im.shape[:2]\n",
    "    w_offset = (max_size - w) // 2\n",
    "    h_offset = (max_size - h) // 2\n",
    "\n",
    "    # Center image in a canvas\n",
    "    canvas = np.zeros((max_size, max_size, 3)).astype(\"uint8\")\n",
    "    canvas[w_offset : w_offset + w, h_offset : h_offset + h, :] = im\n",
    "\n",
    "    # Detect faces and align image\n",
    "    rectangles = [x if isinstance(x, dlib.rectangle) else x.rect for x in face_detector(canvas, 1)]\n",
    "    if len(rectangles):\n",
    "        landmarks = [shape_predictor(canvas, r) for r in rectangles]\n",
    "        face_chips = [dlib.get_face_chip(canvas, l, size=max_size // downsample, padding=1) for l in landmarks]\n",
    "\n",
    "        # Save aligned image\n",
    "        io.imsave(out_filename, face_chips[0])\n",
    "\n",
    "    else:\n",
    "        print(\"Still no faces found in\", f)\n",
    "        \n",
    "        # Rescale canvas\n",
    "        canvas_rescaled = transform.rescale(canvas, 1./downsample, anti_aliasing=True, channel_axis=-1)\n",
    "        canvas_rescaled = (canvas_rescaled * 255).astype('uint8')\n",
    "\n",
    "        # Store image to out_folder\n",
    "        new_out_filename = out_dir / f\"PXL_{dates[fdx]}x_no-face-found.jpg\"\n",
    "        io.imsave(new_out_filename, canvas_rescaled)"
   ]
  },
  {
   "cell_type": "markdown",
   "metadata": {},
   "source": [
    "## 2.4. Identify duplicates and missing dates in x.jpg images\n",
    "\n",
    "Same as 1.4. but this time looking only at PXL_YYYYMMDDx.jpg images"
   ]
  },
  {
   "cell_type": "code",
   "execution_count": null,
   "metadata": {},
   "outputs": [],
   "source": [
    "# Update the file_identifier\n",
    "file_identifier = \"PXL_*x.jpg\""
   ]
  },
  {
   "cell_type": "code",
   "execution_count": null,
   "metadata": {},
   "outputs": [],
   "source": [
    "# Collect all files with the correct naming\n",
    "filenames = sorted(out_dir.glob(file_identifier))"
   ]
  },
  {
   "cell_type": "code",
   "execution_count": null,
   "metadata": {},
   "outputs": [],
   "source": [
    "# Collect dates from the filenames\n",
    "dates = [f.name.split(\"PXL_\")[1][:8] for f in filenames]"
   ]
  },
  {
   "cell_type": "code",
   "execution_count": null,
   "metadata": {},
   "outputs": [],
   "source": [
    "# List all duplicates\n",
    "duplicate_dates = pd.Series(dates).value_counts()\n",
    "duplicates = duplicate_dates[duplicate_dates.gt(1)].sort_index().index.values\n",
    "print(f\"Duplicates were found for the following dates:\\n{duplicates}\")\n",
    "print(\"Please make sure to only have one entry per date.\")"
   ]
  },
  {
   "cell_type": "markdown",
   "metadata": {},
   "source": [
    "Next, let's identify missing dates."
   ]
  },
  {
   "cell_type": "code",
   "execution_count": null,
   "metadata": {},
   "outputs": [],
   "source": [
    "# Convert to pandas DateTime\n",
    "dates_pd = pd.to_datetime(dates, format=\"%Y%m%d\")\n",
    "\n",
    "# Generate a complete date range\n",
    "date_range = pd.date_range(start=dates_pd.min(), end=dates_pd.max())\n",
    "\n",
    "# Identify missing dates by finding dates in the complete range not in the original series\n",
    "missing_dates = date_range.difference(dates_pd)\n",
    "\n",
    "print(f\"Missing dates can be found for the following dates:\\n{missing_dates}\")"
   ]
  },
  {
   "cell_type": "markdown",
   "metadata": {},
   "source": [
    "Once all duplicates were removed (or renamed) and the missing dates were filled, you are good to move on to the next section."
   ]
  },
  {
   "cell_type": "markdown",
   "metadata": {
    "id": "rX0rRtlaAZbG"
   },
   "source": [
    "## 2.5. Manual correction - pass 2\n",
    "\n",
    "For those faces where the alignment didn't work at all, or not good enough, you will need to perform a manual alignment. So have another look at the images in the `..._aligned` folder and delete the ones that were not ok or good enough.\n",
    "\n",
    "After this step, you will need to have all photos aligned and stored in the `..._aligned` folder, so that the video can be generated. So let's get some information about which images are still missing."
   ]
  },
  {
   "cell_type": "code",
   "execution_count": null,
   "metadata": {
    "colab": {
     "base_uri": "https://localhost:8080/"
    },
    "id": "YTxp9x4eyPnM",
    "outputId": "938914b1-0898-44e6-f3b5-e567d964a5a1"
   },
   "outputs": [],
   "source": [
    "# Number of images\n",
    "print(f\"Number of original images: {len(filenames)}\")\n",
    "imgs_aligned = sorted(out_dir.glob(file_identifier))\n",
    "print(f\"Number of aligned images:  {len(imgs_aligned)}\")"
   ]
  },
  {
   "cell_type": "markdown",
   "metadata": {
    "id": "pLssehO5DdPu"
   },
   "source": [
    "To help with the alignment of the missing or misaligned images, lets' create an average image that can be used as a template."
   ]
  },
  {
   "cell_type": "markdown",
   "metadata": {},
   "source": [
    "### Create average image"
   ]
  },
  {
   "cell_type": "code",
   "execution_count": null,
   "metadata": {
    "colab": {
     "base_uri": "https://localhost:8080/",
     "height": 49,
     "referenced_widgets": [
      "e037c7cd15dd43bdbd0ff8820b8e7156",
      "38ee5303365f41b8adad421bf4b3ada0",
      "6ff9401ba0d24a228545ed9ec974d2ab",
      "9a137d46200c431abd707e4972df5e7d",
      "8d6bbc267774484baf5acc0b522a5e4c",
      "c5fce73fbf114f39ad06a33b92ab31d0",
      "16ac722228244b11938629dce7463b73",
      "60e110e9296446f8952e8765ebf866d0",
      "911f8099be1a448da831eaaa878c0520",
      "59b6b7687ae542da8f9d9f3cfe701fcb",
      "d160fc0de2c64147bfea4cea34998eb4"
     ]
    },
    "id": "J6DByvVUyPnM",
    "outputId": "6e5218c9-02ef-4758-e411-d18b2e82c11d"
   },
   "outputs": [],
   "source": [
    "# Collect all images\n",
    "img_avg = np.zeros_like(io.imread(imgs_aligned[0])[..., :3], dtype='float32')\n",
    "for path_align in tqdm(imgs_aligned):\n",
    "    img_avg += io.imread(path_align)[..., :3]\n",
    "\n",
    "# Scale data to be within 0 to 1 range\n",
    "img_avg = img_avg / len(imgs_aligned) / 255.0"
   ]
  },
  {
   "cell_type": "code",
   "execution_count": null,
   "metadata": {
    "colab": {
     "base_uri": "https://localhost:8080/",
     "height": 594
    },
    "id": "XN_uYVAVyPnM",
    "outputId": "1f6e6f48-a199-4e76-f74d-96b24f492d00"
   },
   "outputs": [],
   "source": [
    "# Plot average images\n",
    "plt.figure(figsize=(7, 7))\n",
    "plt.imshow(img_avg)\n",
    "plt.axis(\"off\")\n",
    "plt.show()"
   ]
  },
  {
   "cell_type": "code",
   "execution_count": null,
   "metadata": {
    "id": "UxsLhslByPnM"
   },
   "outputs": [],
   "source": [
    "# Store average images to file\n",
    "plt.imsave(out_dir.parent / \"img_01_avg.png\", img_avg)"
   ]
  },
  {
   "cell_type": "markdown",
   "metadata": {},
   "source": [
    "### Create mosaic plots"
   ]
  },
  {
   "cell_type": "code",
   "execution_count": null,
   "metadata": {
    "colab": {
     "base_uri": "https://localhost:8080/",
     "height": 909
    },
    "id": "qqlBllSEyPnM",
    "outputId": "d314a57f-ed78-4e6f-fc85-4c136fd233b0"
   },
   "outputs": [],
   "source": [
    "# Plot a grid of certain size of first x images\n",
    "grid_size = np.array([5, 3])\n",
    "scale_factor = 4\n",
    "grid_points = np.prod(grid_size)\n",
    "imgs_grid = np.array_split(imgs_aligned, grid_points)\n",
    "fig, axes = plt.subplots(grid_size[1], grid_size[0], figsize=grid_size * scale_factor, facecolor=(0, 0, 0))\n",
    "for i, ax in tqdm(zip(np.arange(grid_points), axes.flatten()), total=grid_points):\n",
    "    \n",
    "    # Create average image\n",
    "    imgs = imgs_grid[i]\n",
    "    img_avg = np.zeros_like(io.imread(imgs[0])[..., :3], dtype='float32')\n",
    "    for path_align in imgs:\n",
    "        img_avg += io.imread(path_align)[..., :3]\n",
    "\n",
    "    # Scale data to be within 0 to 1 range\n",
    "    img_avg = np.clip(img_avg / len(imgs), 0, 255)\n",
    "\n",
    "    ax.imshow(img_avg.astype(\"int\"))\n",
    "    ax.axis(\"off\")\n",
    "plt.tight_layout()\n",
    "plt.savefig(out_dir.parent / \"img_02_mosaic.png\")\n",
    "del fig"
   ]
  },
  {
   "cell_type": "code",
   "execution_count": null,
   "metadata": {},
   "outputs": [],
   "source": [
    "# Plot a grid of certain size of first x images\n",
    "grid_size = np.array([5, 3])\n",
    "scale_factor = 4\n",
    "grid_points = np.prod(grid_size)\n",
    "imgs_grid = np.array_split(imgs_aligned, grid_points)\n",
    "fig, axes = plt.subplots(grid_size[1], grid_size[0], figsize=grid_size * scale_factor, facecolor=(0, 0, 0))\n",
    "counter = 0\n",
    "for i, ax in tqdm(zip(np.arange(grid_points), axes.flatten()), total=grid_points):\n",
    "\n",
    "    n_images = len(imgs_grid[i])\n",
    "    date_str = dates[counter + n_images // 2]\n",
    "    title = f\"{date_str[6:]} / {date_str[4:6]} / {date_str[:4]}\"\n",
    "\n",
    "    # Create average image\n",
    "    imgs = imgs_grid[i]\n",
    "    img_avg = np.zeros_like(io.imread(imgs[0])[..., :3], dtype='float32')\n",
    "    for path_align in imgs:\n",
    "        img_avg += io.imread(path_align)[..., :3]\n",
    "\n",
    "    # Scale data to be within 0 to 1 range\n",
    "    img_avg = np.clip(img_avg / len(imgs), 0, 255)\n",
    "\n",
    "    ax.imshow(img_avg.astype(\"int\"))              \n",
    "    ax.set_title(title, c=\"white\")\n",
    "    ax.axis(\"off\")\n",
    "    counter += n_images\n",
    "plt.tight_layout()\n",
    "plt.savefig(out_dir.parent / \"img_02_mosaic_date.png\")\n",
    "del fig"
   ]
  },
  {
   "cell_type": "markdown",
   "metadata": {
    "id": "Imd_JmOHyPnM"
   },
   "source": [
    "# 3.1. Video 1: No averaging\n",
    "\n",
    "The first video is a simple stacking of all images and each image is given an index number. Note: The font for the text in the image was taken from [here](https://fonts.google.com/)."
   ]
  },
  {
   "cell_type": "code",
   "execution_count": null,
   "metadata": {
    "colab": {
     "base_uri": "https://localhost:8080/"
    },
    "id": "yP7nLeD9yPnM",
    "outputId": "e331ca9b-3c13-4dcc-c380-7fc1da4d2024"
   },
   "outputs": [],
   "source": [
    "# Specify frames per second\n",
    "fps = 30\n",
    "\n",
    "# Extract number of images\n",
    "N_total = len(imgs_aligned)\n",
    "\n",
    "print(\"Video length: %.2f seconds.\" % (N_total / fps))"
   ]
  },
  {
   "cell_type": "code",
   "execution_count": null,
   "metadata": {
    "id": "JE7VMyJCyPnM"
   },
   "outputs": [],
   "source": [
    "# Save temporary folder to store images to disk\n",
    "tmp_dir = Path(out_dir / \"tmp_video_imgs\")\n",
    "if not tmp_dir.exists():\n",
    "    tmp_dir.mkdir(parents=True, exist_ok=True)"
   ]
  },
  {
   "cell_type": "code",
   "execution_count": null,
   "metadata": {
    "colab": {
     "base_uri": "https://localhost:8080/",
     "height": 49,
     "referenced_widgets": [
      "d8a7bc4fbf0e4cdb8f70877793d06d8c",
      "b64221dd12cf4d23b185a77f1627d37f",
      "e56c46bf26c74c2799ed9e5f2491be65",
      "9eb15809593f45faa9580cbd43a88a27",
      "26b28ce1f9e04cc3964aab60ca9f232f",
      "bc985728e28a4fd8aa2e589cd5a2e180",
      "aabe48593d5248478ec9123bd8a4f0b1",
      "a6d8da8b9e3a434ca11dc73557cd50fb",
      "c2376cfc1d9c4bcd961c288b8c75244d",
      "5e6089f225c44fe88b369a7bfa7f4e2a",
      "357bbdfab5b44a42b3798dfb6bb2e661"
     ]
    },
    "id": "dXeaHm-vyPnM",
    "outputId": "3e8edcc2-8e2e-4fa3-e214-45d6a1bad4c9"
   },
   "outputs": [],
   "source": [
    "# Collect images with text\n",
    "filenames_img = []\n",
    "\n",
    "# Loop through all images and add text\n",
    "for idx in tqdm(np.arange(len(imgs_aligned))):\n",
    "\n",
    "    # Load aligned image\n",
    "    im = io.imread(imgs_aligned[idx])\n",
    "    \n",
    "    # Establish out_filename\n",
    "    out_filename_img = tmp_dir / f\"{idx+1:05d}_image.jpg\"\n",
    "    out_filename_txt = tmp_dir / f\"{idx+1:05d}_text.jpg\"\n",
    "\n",
    "    # Store image to file\n",
    "    io.imsave(out_filename_img, np.array(im))\n",
    "\n",
    "    # Collect year specific information\n",
    "    n_year = idx / 365.25\n",
    "    n_month = n_year * 12 % 12\n",
    "    n_days = idx % 31\n",
    "    n_year = int(np.floor(n_year))\n",
    "    n_month = int(np.floor(n_month))\n",
    "    n_days = int(np.floor(n_days))\n",
    "\n",
    "    # Establish text on image\n",
    "    date_str = dates[idx]\n",
    "    title_txt = f\"{date_str[4:6]} / {date_str[6:]} / {date_str[:4]} - Day #{idx+1:05d}\\n\"\n",
    "    title_txt += f\"{n_year:02d} years, {n_month:02d} months, {n_days+1:02d} days\"\n",
    "    \n",
    "    # Add text to output filename\n",
    "    img_txt = Image.fromarray(im)\n",
    "    draw = ImageDraw.Draw(img_txt)\n",
    "    width = max_size // downsample\n",
    "    font_path = \"\"\n",
    "    if IN_COLAB:\n",
    "        font_path = \"boy_ages/\"\n",
    "\n",
    "    # Set font, font size and x/y location of top left corner\n",
    "    font_size = 0.06\n",
    "    xx, yy = width * 0.13, width * 0.86\n",
    "\n",
    "    # Draw background for text field\n",
    "    text_size = (1650, 250)\n",
    "    padding = 10  # Padding around text\n",
    "    draw.rectangle([xx - padding, yy - padding, xx + text_size[0] + padding,\n",
    "                    yy + text_size[1] + padding*4], fill=(16, 16, 16, 128))\n",
    "    \n",
    "    # Write text to image\n",
    "    font = ImageFont.truetype(f\"{font_path}Roboto/Roboto-Light.ttf\", int(width * font_size))\n",
    "    draw.text((xx, yy), title_txt, (255, 255, 255), font=font)\n",
    "\n",
    "    # Store image with text to file\n",
    "    io.imsave(out_filename_txt, np.array(img_txt))\n",
    "\n",
    "    # Add image with text to list\n",
    "    filenames_img.append(out_filename_img)\n",
    "\n",
    "del img_txt"
   ]
  },
  {
   "cell_type": "code",
   "execution_count": null,
   "metadata": {
    "id": "i_zFr9ImE8_e"
   },
   "outputs": [],
   "source": [
    "# Define name of tmpd dir and filename of video 1\n",
    "tmp_dir_name = str(tmp_dir)\n",
    "video_name = str(out_dir.parent / \"video_01_aligned.mp4\")"
   ]
  },
  {
   "cell_type": "code",
   "execution_count": null,
   "metadata": {
    "colab": {
     "base_uri": "https://localhost:8080/"
    },
    "id": "MpRoUVj-yPnM",
    "outputId": "9ebd1a1a-62ae-4f17-899e-4f61091c84cf"
   },
   "outputs": [],
   "source": [
    "# Takes all images from tmp-folder and creates a video out of it with ffmpeg\n",
    "!ffmpeg -y -framerate $fps -i \"$tmp_dir_name\\%05d_text.jpg\" -vcodec mjpeg -vcodec libx264 $video_name\n",
    "#!cat $tmp_dir_name/*_text.jpg | ffmpeg -y -f image2pipe -r $fps -vcodec mjpeg -i - -vcodec libx264 $video_name"
   ]
  },
  {
   "cell_type": "markdown",
   "metadata": {
    "id": "oacc3dSKyPnM"
   },
   "source": [
    "# 3.2. Video 2: Smoothed / averaged images\n",
    "\n",
    "The second video takes multiple images at once, averages them and then stacks them, leading to a temporal smoothing effect. Note: The font for the text in the image was taken from [here](https://fonts.google.com/)."
   ]
  },
  {
   "cell_type": "code",
   "execution_count": null,
   "metadata": {
    "id": "lwpXhNQUF7az"
   },
   "outputs": [],
   "source": [
    "# Specify frames per second\n",
    "fps = 30"
   ]
  },
  {
   "cell_type": "code",
   "execution_count": null,
   "metadata": {},
   "outputs": [],
   "source": [
    "# Decide for mean or median averaging\n",
    "use_mean = True\n",
    "if use_mean:\n",
    "    suffix = \"mean\"\n",
    "else:\n",
    "    suffix = \"median\""
   ]
  },
  {
   "cell_type": "markdown",
   "metadata": {},
   "source": [
    "### Adaptive smoothing and fps\n",
    "\n",
    "The following parameter guides the adaptive smoothing / averaging and dynamic fps routine. Take for example:\n",
    "\n",
    "```python\n",
    "smooth_dict = {0: [7, 3],\n",
    "               14: [14, 15],\n",
    "               90: [30, 30],\n",
    "               1095: [60, 30]}\n",
    "```\n",
    "\n",
    "This code means that from photo 0 (in Python that's the 1st one) to photo 14, the average is created over the last 7 days and this period uses an fps of 3 images/second (=3 days/second). Then from photo 14 to 90, images are averaged over last 14 days with an fps of 15. From photo 90 till 1095 (= 3 years) images are averaged over last 30 images with an fps of 30. And after that the average is done over the last 60 days, with an fps of 30."
   ]
  },
  {
   "cell_type": "markdown",
   "metadata": {},
   "source": [
    "Depending on how you set `smooth_dict` you can have different kinds of videos:\n",
    "\n",
    "**Option 1**\n",
    "```python\n",
    "smooth_dict = {0: [30, 30]}\n",
    "```\n",
    "This will average each image over last 30 days and uses a constant fps of 30.\n",
    "\n",
    "**Option 2**\n",
    "```python\n",
    "smooth_dict = {0: [7, 30],\n",
    "               14: [14, 30],\n",
    "               90: [30, 30],\n",
    "               1095: [60, 30]}\n",
    "```\n",
    "This will have different averages. First 14 days only average over 7 days, then over 14 days, ...\n",
    "\n",
    "**Option 3**\n",
    "```python\n",
    "smooth_dict = {0: [7, 3],\n",
    "               14: [14, 15],\n",
    "               90: [30, 30],\n",
    "               1095: [60, 30]}\n",
    "```\n",
    "This changes days to average and fps.\n",
    "\n",
    "**Option 4**\n",
    "```python\n",
    "smooth_dict = {0: [1, 1],\n",
    "               30: [30, 30]}\n",
    "```\n",
    "This means that the first 30 days are not averaged at all and each image is shown for 1 second.\n",
    "\n",
    "**Option 5**\n",
    "```python\n",
    "# Linearly increase the frame rate to 30 fps, for the first 50 images\n",
    "linear_increase = np.linspace(1, 30, num=50, dtype='int')\n",
    "smooth_dict = dict([[idx, [1, linear_increase[idx]]] for idx in np.arange(50)])\n",
    "\n",
    "# At 30 fps, linearly increase the averaging of images from 1 to 30 for images 50 to 200\n",
    "offset = 50\n",
    "linear_increase = np.linspace(1, 30, num=150, dtype='int')\n",
    "smooth_dict.update(dict([[idx + offset, [linear_increase[idx], 30]] for idx in np.arange(150)]))\n",
    "\n",
    "# Keep constant average of 30 with 30 fps, from image 200 on\n",
    "smooth_dict[200]= [30, 30]\n",
    "```\n",
    "This means that the first 50 days will not be averaged (hence the `1` in `[1, linear_increase[idx]]`), and will gradually speed up the frame rate to 30 fps, over the first 50 days. After that it will gradually speed up the number of images it afterages for 150 days (i.e. day 50 to 200). And lastly, from day 200 on, it will keep constant averaging and fps of 30."
   ]
  },
  {
   "cell_type": "code",
   "execution_count": null,
   "metadata": {
    "id": "hRMhBniGyPnM"
   },
   "outputs": [],
   "source": [
    "# Linearly increase the frame rate to 30 fps, for the first 50 images\n",
    "linear_increase = np.linspace(1, 30, num=50, dtype='int')\n",
    "smooth_dict = dict([[idx, [1, linear_increase[idx]]] for idx in np.arange(50)])\n",
    "\n",
    "# At 30 fps, linearly increase the averaging of images from 1 to 30 for images 50 to 200\n",
    "offset = 50\n",
    "linear_increase = np.linspace(1, 30, num=150, dtype='int')\n",
    "smooth_dict.update(dict([[idx + offset, [linear_increase[idx], 30]] for idx in np.arange(150)]))\n",
    "\n",
    "# Keep constant average of 30 with 30 fps, from image 200 on\n",
    "smooth_dict[200]= [30, 30]"
   ]
  },
  {
   "cell_type": "code",
   "execution_count": null,
   "metadata": {
    "colab": {
     "base_uri": "https://localhost:8080/",
     "height": 49,
     "referenced_widgets": [
      "a72518644f604f02bb82c24901097a4e",
      "946cd24ea7da496ba98a3fd9b44e8272",
      "ce39d4c9cd904b11b13c803baa9d8425",
      "fde351e026fa4707b825165af0c366d7",
      "522001d2e5d0424fb9815f30a9df0603",
      "944b559b4b484a338e63e2c27e7a7bd1",
      "81dee0b7215f4627835c5fcfbbbcf357",
      "45451e7732554c77bfcbfb0cdbe04a5d",
      "91feb38cc46d49eea18ada089aa2080e",
      "5b7f035c479e407fb6ec8b13cfc05f41",
      "17c2c7ec928a4b26bc1e4b274e557345"
     ]
    },
    "id": "Fidm1zRvyPnQ",
    "outputId": "9fd65aa6-5aab-4b7c-c412-6c4a2e23d898",
    "scrolled": true
   },
   "outputs": [],
   "source": [
    "# Loop through images and average them according to smooth_dict\n",
    "idx = 0\n",
    "fdx = 0\n",
    "smooth = 1\n",
    "\n",
    "n_images = len(filenames_img)\n",
    "pbar = tqdm()\n",
    "while True:\n",
    "    \n",
    "    # Ignore loop if all images were processed\n",
    "    if idx >= len(filenames_img) and np.std(imgs_idx) == 0:\n",
    "        break\n",
    "\n",
    "    # Acquire temporal smoothing length and fps duplication factor\n",
    "    if idx in smooth_dict.keys():\n",
    "        smooth, fps_fact = smooth_dict[idx]\n",
    "\n",
    "    # Collect indeces of images\n",
    "    imgs_idx = np.clip(np.arange(idx - smooth, idx) + 1, 0, n_images - 1)\n",
    "\n",
    "    # Collect images\n",
    "    imgs_group = np.array([io.imread(filenames_img[loc])[..., :3] for loc in imgs_idx])\n",
    "    \n",
    "    # Average images\n",
    "    if use_mean:\n",
    "        img_comp = np.mean(imgs_group, axis=0).astype(\"uint8\")\n",
    "    else:\n",
    "        img_comp = np.median(imgs_group, axis=0).astype(\"uint8\")\n",
    "\n",
    "    # Establish date string\n",
    "    date_str = np.array(dates)[imgs_idx]\n",
    "    date_str = date_str[len(date_str)//2]\n",
    "        \n",
    "    # Establish text on image\n",
    "    title_txt = f\"{date_str[4:6]} / {date_str[6:]} / {date_str[:4]} - Day #{idx+1:05d}\\n\"\n",
    "    title_txt += f\"{n_year:02d} years, {n_month:02d} months, {n_days+1:02d} days\"\n",
    "    \n",
    "    # Add text to output filename\n",
    "    img_txt = Image.fromarray(img_comp)\n",
    "    draw = ImageDraw.Draw(img_txt)\n",
    "    width = max_size // downsample\n",
    "    font_path = \"\"\n",
    "    if IN_COLAB:\n",
    "        font_path = \"boy_ages/\"\n",
    "\n",
    "    # Set font, font size and x/y location of top left corner\n",
    "    font_size = 0.06\n",
    "    xx, yy = width * 0.13, width * 0.86\n",
    "\n",
    "    # Draw background for text field\n",
    "    text_size = (1650, 250)\n",
    "    padding = 10  # Padding around text\n",
    "    draw.rectangle([xx - padding, yy - padding, xx + text_size[0] + padding,\n",
    "                    yy + text_size[1] + padding*4], fill=(16, 16, 16, 128))\n",
    "    \n",
    "    # Write text to image\n",
    "    font = ImageFont.truetype(f\"{font_path}Roboto/Roboto-Light.ttf\", int(width * font_size))\n",
    "    draw.text((xx, yy), title_txt, (255, 255, 255), font=font)\n",
    "        \n",
    "    # Create output file and duplicate it if necessairy (to decrease fps)\n",
    "    duplication_factor = np.maximum(int(fps / fps_fact), 1)  # needs to be at least 1\n",
    "    for _ in range(duplication_factor):\n",
    "        # Save composition image\n",
    "        out_filename = tmp_dir / f\"{fdx+1:05d}_{suffix}.jpg\"\n",
    "        io.imsave(out_filename, np.array(img_txt).astype(\"uint8\"))\n",
    "        fdx += 1\n",
    "\n",
    "    # Report progress\n",
    "    if idx % 30 == 0:\n",
    "        ddx = np.minimum(idx, len(dates) - 1)\n",
    "        print(f\"Finished date {dates[ddx]}\")\n",
    "\n",
    "    # Increase indecies\n",
    "    idx += 1\n",
    "\n",
    "    # Update the progress bar\n",
    "    pbar.update(1)\n",
    "\n",
    "# Close the progress bar\n",
    "pbar.close()"
   ]
  },
  {
   "cell_type": "code",
   "execution_count": null,
   "metadata": {
    "id": "7I-f_O-cGK7M"
   },
   "outputs": [],
   "source": [
    "# Define name of tmpd dir and filename of video 2\n",
    "tmp_dir_name = str(tmp_dir)\n",
    "video_name = str(out_dir.parent / f\"video_02_smoothed_{suffix}-{smooth}-days.mp4\")"
   ]
  },
  {
   "cell_type": "code",
   "execution_count": null,
   "metadata": {},
   "outputs": [],
   "source": [
    "# Takes all images from tmp-folder and creates a video out of it with ffmpeg\n",
    "!ffmpeg -y -framerate $fps -i \"$tmp_dir_name\\%05d_{suffix}.jpg\" -vcodec mjpeg -vcodec libx264 $video_name\n",
    "#!cat $tmp_dir_name/*jpg | ffmpeg -y -f image2pipe -r $fps -vcodec mjpeg -i - -vcodec libx264 $video_name"
   ]
  },
  {
   "cell_type": "markdown",
   "metadata": {},
   "source": [
    "## 3.3 Clean up\n",
    "\n",
    "Remove all jpg files in the temporary directory that was used to create the frames for the video."
   ]
  },
  {
   "cell_type": "code",
   "execution_count": null,
   "metadata": {
    "id": "EG3rHV3CyPnQ"
   },
   "outputs": [],
   "source": [
    "# Remove all temporary files\n",
    "for p in sorted(tmp_dir.glob(\"*jpg\")):\n",
    "    p.unlink()"
   ]
  }
 ],
 "metadata": {
  "accelerator": "GPU",
  "colab": {
   "gpuType": "T4",
   "provenance": []
  },
  "kernelspec": {
   "display_name": "Python 3 (ipykernel)",
   "language": "python",
   "name": "python3"
  },
  "language_info": {
   "codemirror_mode": {
    "name": "ipython",
    "version": 3
   },
   "file_extension": ".py",
   "mimetype": "text/x-python",
   "name": "python",
   "nbconvert_exporter": "python",
   "pygments_lexer": "ipython3",
   "version": "3.10.14"
  },
  "widgets": {
   "application/vnd.jupyter.widget-state+json": {
    "00eed77860264e548fec56b3f10ad242": {
     "model_module": "@jupyter-widgets/base",
     "model_module_version": "1.2.0",
     "model_name": "LayoutModel",
     "state": {
      "_model_module": "@jupyter-widgets/base",
      "_model_module_version": "1.2.0",
      "_model_name": "LayoutModel",
      "_view_count": null,
      "_view_module": "@jupyter-widgets/base",
      "_view_module_version": "1.2.0",
      "_view_name": "LayoutView",
      "align_content": null,
      "align_items": null,
      "align_self": null,
      "border": null,
      "bottom": null,
      "display": null,
      "flex": null,
      "flex_flow": null,
      "grid_area": null,
      "grid_auto_columns": null,
      "grid_auto_flow": null,
      "grid_auto_rows": null,
      "grid_column": null,
      "grid_gap": null,
      "grid_row": null,
      "grid_template_areas": null,
      "grid_template_columns": null,
      "grid_template_rows": null,
      "height": null,
      "justify_content": null,
      "justify_items": null,
      "left": null,
      "margin": null,
      "max_height": null,
      "max_width": null,
      "min_height": null,
      "min_width": null,
      "object_fit": null,
      "object_position": null,
      "order": null,
      "overflow": null,
      "overflow_x": null,
      "overflow_y": null,
      "padding": null,
      "right": null,
      "top": null,
      "visibility": null,
      "width": null
     }
    },
    "06544b4d66dc45c7951372cba99df5f2": {
     "model_module": "@jupyter-widgets/controls",
     "model_module_version": "1.5.0",
     "model_name": "ProgressStyleModel",
     "state": {
      "_model_module": "@jupyter-widgets/controls",
      "_model_module_version": "1.5.0",
      "_model_name": "ProgressStyleModel",
      "_view_count": null,
      "_view_module": "@jupyter-widgets/base",
      "_view_module_version": "1.2.0",
      "_view_name": "StyleView",
      "bar_color": null,
      "description_width": ""
     }
    },
    "13aa8e0924634617b1914177b12507bc": {
     "model_module": "@jupyter-widgets/controls",
     "model_module_version": "1.5.0",
     "model_name": "DescriptionStyleModel",
     "state": {
      "_model_module": "@jupyter-widgets/controls",
      "_model_module_version": "1.5.0",
      "_model_name": "DescriptionStyleModel",
      "_view_count": null,
      "_view_module": "@jupyter-widgets/base",
      "_view_module_version": "1.2.0",
      "_view_name": "StyleView",
      "description_width": ""
     }
    },
    "16ac722228244b11938629dce7463b73": {
     "model_module": "@jupyter-widgets/controls",
     "model_module_version": "1.5.0",
     "model_name": "DescriptionStyleModel",
     "state": {
      "_model_module": "@jupyter-widgets/controls",
      "_model_module_version": "1.5.0",
      "_model_name": "DescriptionStyleModel",
      "_view_count": null,
      "_view_module": "@jupyter-widgets/base",
      "_view_module_version": "1.2.0",
      "_view_name": "StyleView",
      "description_width": ""
     }
    },
    "17c2c7ec928a4b26bc1e4b274e557345": {
     "model_module": "@jupyter-widgets/controls",
     "model_module_version": "1.5.0",
     "model_name": "DescriptionStyleModel",
     "state": {
      "_model_module": "@jupyter-widgets/controls",
      "_model_module_version": "1.5.0",
      "_model_name": "DescriptionStyleModel",
      "_view_count": null,
      "_view_module": "@jupyter-widgets/base",
      "_view_module_version": "1.2.0",
      "_view_name": "StyleView",
      "description_width": ""
     }
    },
    "21aedc80399140e9b7d51717d2835651": {
     "model_module": "@jupyter-widgets/base",
     "model_module_version": "1.2.0",
     "model_name": "LayoutModel",
     "state": {
      "_model_module": "@jupyter-widgets/base",
      "_model_module_version": "1.2.0",
      "_model_name": "LayoutModel",
      "_view_count": null,
      "_view_module": "@jupyter-widgets/base",
      "_view_module_version": "1.2.0",
      "_view_name": "LayoutView",
      "align_content": null,
      "align_items": null,
      "align_self": null,
      "border": null,
      "bottom": null,
      "display": null,
      "flex": null,
      "flex_flow": null,
      "grid_area": null,
      "grid_auto_columns": null,
      "grid_auto_flow": null,
      "grid_auto_rows": null,
      "grid_column": null,
      "grid_gap": null,
      "grid_row": null,
      "grid_template_areas": null,
      "grid_template_columns": null,
      "grid_template_rows": null,
      "height": null,
      "justify_content": null,
      "justify_items": null,
      "left": null,
      "margin": null,
      "max_height": null,
      "max_width": null,
      "min_height": null,
      "min_width": null,
      "object_fit": null,
      "object_position": null,
      "order": null,
      "overflow": null,
      "overflow_x": null,
      "overflow_y": null,
      "padding": null,
      "right": null,
      "top": null,
      "visibility": null,
      "width": null
     }
    },
    "2287cf0fed86493880f3b428960c8cee": {
     "model_module": "@jupyter-widgets/controls",
     "model_module_version": "1.5.0",
     "model_name": "ProgressStyleModel",
     "state": {
      "_model_module": "@jupyter-widgets/controls",
      "_model_module_version": "1.5.0",
      "_model_name": "ProgressStyleModel",
      "_view_count": null,
      "_view_module": "@jupyter-widgets/base",
      "_view_module_version": "1.2.0",
      "_view_name": "StyleView",
      "bar_color": null,
      "description_width": ""
     }
    },
    "26b28ce1f9e04cc3964aab60ca9f232f": {
     "model_module": "@jupyter-widgets/base",
     "model_module_version": "1.2.0",
     "model_name": "LayoutModel",
     "state": {
      "_model_module": "@jupyter-widgets/base",
      "_model_module_version": "1.2.0",
      "_model_name": "LayoutModel",
      "_view_count": null,
      "_view_module": "@jupyter-widgets/base",
      "_view_module_version": "1.2.0",
      "_view_name": "LayoutView",
      "align_content": null,
      "align_items": null,
      "align_self": null,
      "border": null,
      "bottom": null,
      "display": null,
      "flex": null,
      "flex_flow": null,
      "grid_area": null,
      "grid_auto_columns": null,
      "grid_auto_flow": null,
      "grid_auto_rows": null,
      "grid_column": null,
      "grid_gap": null,
      "grid_row": null,
      "grid_template_areas": null,
      "grid_template_columns": null,
      "grid_template_rows": null,
      "height": null,
      "justify_content": null,
      "justify_items": null,
      "left": null,
      "margin": null,
      "max_height": null,
      "max_width": null,
      "min_height": null,
      "min_width": null,
      "object_fit": null,
      "object_position": null,
      "order": null,
      "overflow": null,
      "overflow_x": null,
      "overflow_y": null,
      "padding": null,
      "right": null,
      "top": null,
      "visibility": null,
      "width": null
     }
    },
    "357bbdfab5b44a42b3798dfb6bb2e661": {
     "model_module": "@jupyter-widgets/controls",
     "model_module_version": "1.5.0",
     "model_name": "DescriptionStyleModel",
     "state": {
      "_model_module": "@jupyter-widgets/controls",
      "_model_module_version": "1.5.0",
      "_model_name": "DescriptionStyleModel",
      "_view_count": null,
      "_view_module": "@jupyter-widgets/base",
      "_view_module_version": "1.2.0",
      "_view_name": "StyleView",
      "description_width": ""
     }
    },
    "38ee5303365f41b8adad421bf4b3ada0": {
     "model_module": "@jupyter-widgets/controls",
     "model_module_version": "1.5.0",
     "model_name": "HTMLModel",
     "state": {
      "_dom_classes": [],
      "_model_module": "@jupyter-widgets/controls",
      "_model_module_version": "1.5.0",
      "_model_name": "HTMLModel",
      "_view_count": null,
      "_view_module": "@jupyter-widgets/controls",
      "_view_module_version": "1.5.0",
      "_view_name": "HTMLView",
      "description": "",
      "description_tooltip": null,
      "layout": "IPY_MODEL_c5fce73fbf114f39ad06a33b92ab31d0",
      "placeholder": "​",
      "style": "IPY_MODEL_16ac722228244b11938629dce7463b73",
      "value": "100%"
     }
    },
    "41fdf0288abe4dcf8f4599fddfe1a66c": {
     "model_module": "@jupyter-widgets/base",
     "model_module_version": "1.2.0",
     "model_name": "LayoutModel",
     "state": {
      "_model_module": "@jupyter-widgets/base",
      "_model_module_version": "1.2.0",
      "_model_name": "LayoutModel",
      "_view_count": null,
      "_view_module": "@jupyter-widgets/base",
      "_view_module_version": "1.2.0",
      "_view_name": "LayoutView",
      "align_content": null,
      "align_items": null,
      "align_self": null,
      "border": null,
      "bottom": null,
      "display": null,
      "flex": null,
      "flex_flow": null,
      "grid_area": null,
      "grid_auto_columns": null,
      "grid_auto_flow": null,
      "grid_auto_rows": null,
      "grid_column": null,
      "grid_gap": null,
      "grid_row": null,
      "grid_template_areas": null,
      "grid_template_columns": null,
      "grid_template_rows": null,
      "height": null,
      "justify_content": null,
      "justify_items": null,
      "left": null,
      "margin": null,
      "max_height": null,
      "max_width": null,
      "min_height": null,
      "min_width": null,
      "object_fit": null,
      "object_position": null,
      "order": null,
      "overflow": null,
      "overflow_x": null,
      "overflow_y": null,
      "padding": null,
      "right": null,
      "top": null,
      "visibility": null,
      "width": null
     }
    },
    "45451e7732554c77bfcbfb0cdbe04a5d": {
     "model_module": "@jupyter-widgets/base",
     "model_module_version": "1.2.0",
     "model_name": "LayoutModel",
     "state": {
      "_model_module": "@jupyter-widgets/base",
      "_model_module_version": "1.2.0",
      "_model_name": "LayoutModel",
      "_view_count": null,
      "_view_module": "@jupyter-widgets/base",
      "_view_module_version": "1.2.0",
      "_view_name": "LayoutView",
      "align_content": null,
      "align_items": null,
      "align_self": null,
      "border": null,
      "bottom": null,
      "display": null,
      "flex": null,
      "flex_flow": null,
      "grid_area": null,
      "grid_auto_columns": null,
      "grid_auto_flow": null,
      "grid_auto_rows": null,
      "grid_column": null,
      "grid_gap": null,
      "grid_row": null,
      "grid_template_areas": null,
      "grid_template_columns": null,
      "grid_template_rows": null,
      "height": null,
      "justify_content": null,
      "justify_items": null,
      "left": null,
      "margin": null,
      "max_height": null,
      "max_width": null,
      "min_height": null,
      "min_width": null,
      "object_fit": null,
      "object_position": null,
      "order": null,
      "overflow": null,
      "overflow_x": null,
      "overflow_y": null,
      "padding": null,
      "right": null,
      "top": null,
      "visibility": null,
      "width": null
     }
    },
    "522001d2e5d0424fb9815f30a9df0603": {
     "model_module": "@jupyter-widgets/base",
     "model_module_version": "1.2.0",
     "model_name": "LayoutModel",
     "state": {
      "_model_module": "@jupyter-widgets/base",
      "_model_module_version": "1.2.0",
      "_model_name": "LayoutModel",
      "_view_count": null,
      "_view_module": "@jupyter-widgets/base",
      "_view_module_version": "1.2.0",
      "_view_name": "LayoutView",
      "align_content": null,
      "align_items": null,
      "align_self": null,
      "border": null,
      "bottom": null,
      "display": null,
      "flex": null,
      "flex_flow": null,
      "grid_area": null,
      "grid_auto_columns": null,
      "grid_auto_flow": null,
      "grid_auto_rows": null,
      "grid_column": null,
      "grid_gap": null,
      "grid_row": null,
      "grid_template_areas": null,
      "grid_template_columns": null,
      "grid_template_rows": null,
      "height": null,
      "justify_content": null,
      "justify_items": null,
      "left": null,
      "margin": null,
      "max_height": null,
      "max_width": null,
      "min_height": null,
      "min_width": null,
      "object_fit": null,
      "object_position": null,
      "order": null,
      "overflow": null,
      "overflow_x": null,
      "overflow_y": null,
      "padding": null,
      "right": null,
      "top": null,
      "visibility": null,
      "width": null
     }
    },
    "54a1ba489aaf4b5d9cc856f267564bb9": {
     "model_module": "@jupyter-widgets/controls",
     "model_module_version": "1.5.0",
     "model_name": "HTMLModel",
     "state": {
      "_dom_classes": [],
      "_model_module": "@jupyter-widgets/controls",
      "_model_module_version": "1.5.0",
      "_model_name": "HTMLModel",
      "_view_count": null,
      "_view_module": "@jupyter-widgets/controls",
      "_view_module_version": "1.5.0",
      "_view_name": "HTMLView",
      "description": "",
      "description_tooltip": null,
      "layout": "IPY_MODEL_8091790c24914135af23e0274de1d01e",
      "placeholder": "​",
      "style": "IPY_MODEL_559131d5804349298ac083839d62a2bc",
      "value": " 0/36 [00:00&lt;?, ?it/s]"
     }
    },
    "559131d5804349298ac083839d62a2bc": {
     "model_module": "@jupyter-widgets/controls",
     "model_module_version": "1.5.0",
     "model_name": "DescriptionStyleModel",
     "state": {
      "_model_module": "@jupyter-widgets/controls",
      "_model_module_version": "1.5.0",
      "_model_name": "DescriptionStyleModel",
      "_view_count": null,
      "_view_module": "@jupyter-widgets/base",
      "_view_module_version": "1.2.0",
      "_view_name": "StyleView",
      "description_width": ""
     }
    },
    "55bb59a8f5f547ac91cdb04e326be604": {
     "model_module": "@jupyter-widgets/base",
     "model_module_version": "1.2.0",
     "model_name": "LayoutModel",
     "state": {
      "_model_module": "@jupyter-widgets/base",
      "_model_module_version": "1.2.0",
      "_model_name": "LayoutModel",
      "_view_count": null,
      "_view_module": "@jupyter-widgets/base",
      "_view_module_version": "1.2.0",
      "_view_name": "LayoutView",
      "align_content": null,
      "align_items": null,
      "align_self": null,
      "border": null,
      "bottom": null,
      "display": null,
      "flex": null,
      "flex_flow": null,
      "grid_area": null,
      "grid_auto_columns": null,
      "grid_auto_flow": null,
      "grid_auto_rows": null,
      "grid_column": null,
      "grid_gap": null,
      "grid_row": null,
      "grid_template_areas": null,
      "grid_template_columns": null,
      "grid_template_rows": null,
      "height": null,
      "justify_content": null,
      "justify_items": null,
      "left": null,
      "margin": null,
      "max_height": null,
      "max_width": null,
      "min_height": null,
      "min_width": null,
      "object_fit": null,
      "object_position": null,
      "order": null,
      "overflow": null,
      "overflow_x": null,
      "overflow_y": null,
      "padding": null,
      "right": null,
      "top": null,
      "visibility": null,
      "width": null
     }
    },
    "59b6b7687ae542da8f9d9f3cfe701fcb": {
     "model_module": "@jupyter-widgets/base",
     "model_module_version": "1.2.0",
     "model_name": "LayoutModel",
     "state": {
      "_model_module": "@jupyter-widgets/base",
      "_model_module_version": "1.2.0",
      "_model_name": "LayoutModel",
      "_view_count": null,
      "_view_module": "@jupyter-widgets/base",
      "_view_module_version": "1.2.0",
      "_view_name": "LayoutView",
      "align_content": null,
      "align_items": null,
      "align_self": null,
      "border": null,
      "bottom": null,
      "display": null,
      "flex": null,
      "flex_flow": null,
      "grid_area": null,
      "grid_auto_columns": null,
      "grid_auto_flow": null,
      "grid_auto_rows": null,
      "grid_column": null,
      "grid_gap": null,
      "grid_row": null,
      "grid_template_areas": null,
      "grid_template_columns": null,
      "grid_template_rows": null,
      "height": null,
      "justify_content": null,
      "justify_items": null,
      "left": null,
      "margin": null,
      "max_height": null,
      "max_width": null,
      "min_height": null,
      "min_width": null,
      "object_fit": null,
      "object_position": null,
      "order": null,
      "overflow": null,
      "overflow_x": null,
      "overflow_y": null,
      "padding": null,
      "right": null,
      "top": null,
      "visibility": null,
      "width": null
     }
    },
    "5b7f035c479e407fb6ec8b13cfc05f41": {
     "model_module": "@jupyter-widgets/base",
     "model_module_version": "1.2.0",
     "model_name": "LayoutModel",
     "state": {
      "_model_module": "@jupyter-widgets/base",
      "_model_module_version": "1.2.0",
      "_model_name": "LayoutModel",
      "_view_count": null,
      "_view_module": "@jupyter-widgets/base",
      "_view_module_version": "1.2.0",
      "_view_name": "LayoutView",
      "align_content": null,
      "align_items": null,
      "align_self": null,
      "border": null,
      "bottom": null,
      "display": null,
      "flex": null,
      "flex_flow": null,
      "grid_area": null,
      "grid_auto_columns": null,
      "grid_auto_flow": null,
      "grid_auto_rows": null,
      "grid_column": null,
      "grid_gap": null,
      "grid_row": null,
      "grid_template_areas": null,
      "grid_template_columns": null,
      "grid_template_rows": null,
      "height": null,
      "justify_content": null,
      "justify_items": null,
      "left": null,
      "margin": null,
      "max_height": null,
      "max_width": null,
      "min_height": null,
      "min_width": null,
      "object_fit": null,
      "object_position": null,
      "order": null,
      "overflow": null,
      "overflow_x": null,
      "overflow_y": null,
      "padding": null,
      "right": null,
      "top": null,
      "visibility": null,
      "width": null
     }
    },
    "5e6089f225c44fe88b369a7bfa7f4e2a": {
     "model_module": "@jupyter-widgets/base",
     "model_module_version": "1.2.0",
     "model_name": "LayoutModel",
     "state": {
      "_model_module": "@jupyter-widgets/base",
      "_model_module_version": "1.2.0",
      "_model_name": "LayoutModel",
      "_view_count": null,
      "_view_module": "@jupyter-widgets/base",
      "_view_module_version": "1.2.0",
      "_view_name": "LayoutView",
      "align_content": null,
      "align_items": null,
      "align_self": null,
      "border": null,
      "bottom": null,
      "display": null,
      "flex": null,
      "flex_flow": null,
      "grid_area": null,
      "grid_auto_columns": null,
      "grid_auto_flow": null,
      "grid_auto_rows": null,
      "grid_column": null,
      "grid_gap": null,
      "grid_row": null,
      "grid_template_areas": null,
      "grid_template_columns": null,
      "grid_template_rows": null,
      "height": null,
      "justify_content": null,
      "justify_items": null,
      "left": null,
      "margin": null,
      "max_height": null,
      "max_width": null,
      "min_height": null,
      "min_width": null,
      "object_fit": null,
      "object_position": null,
      "order": null,
      "overflow": null,
      "overflow_x": null,
      "overflow_y": null,
      "padding": null,
      "right": null,
      "top": null,
      "visibility": null,
      "width": null
     }
    },
    "5f7edaf201484839b8c96e9f1ddf9249": {
     "model_module": "@jupyter-widgets/controls",
     "model_module_version": "1.5.0",
     "model_name": "DescriptionStyleModel",
     "state": {
      "_model_module": "@jupyter-widgets/controls",
      "_model_module_version": "1.5.0",
      "_model_name": "DescriptionStyleModel",
      "_view_count": null,
      "_view_module": "@jupyter-widgets/base",
      "_view_module_version": "1.2.0",
      "_view_name": "StyleView",
      "description_width": ""
     }
    },
    "60e110e9296446f8952e8765ebf866d0": {
     "model_module": "@jupyter-widgets/base",
     "model_module_version": "1.2.0",
     "model_name": "LayoutModel",
     "state": {
      "_model_module": "@jupyter-widgets/base",
      "_model_module_version": "1.2.0",
      "_model_name": "LayoutModel",
      "_view_count": null,
      "_view_module": "@jupyter-widgets/base",
      "_view_module_version": "1.2.0",
      "_view_name": "LayoutView",
      "align_content": null,
      "align_items": null,
      "align_self": null,
      "border": null,
      "bottom": null,
      "display": null,
      "flex": null,
      "flex_flow": null,
      "grid_area": null,
      "grid_auto_columns": null,
      "grid_auto_flow": null,
      "grid_auto_rows": null,
      "grid_column": null,
      "grid_gap": null,
      "grid_row": null,
      "grid_template_areas": null,
      "grid_template_columns": null,
      "grid_template_rows": null,
      "height": null,
      "justify_content": null,
      "justify_items": null,
      "left": null,
      "margin": null,
      "max_height": null,
      "max_width": null,
      "min_height": null,
      "min_width": null,
      "object_fit": null,
      "object_position": null,
      "order": null,
      "overflow": null,
      "overflow_x": null,
      "overflow_y": null,
      "padding": null,
      "right": null,
      "top": null,
      "visibility": null,
      "width": null
     }
    },
    "6ff9401ba0d24a228545ed9ec974d2ab": {
     "model_module": "@jupyter-widgets/controls",
     "model_module_version": "1.5.0",
     "model_name": "FloatProgressModel",
     "state": {
      "_dom_classes": [],
      "_model_module": "@jupyter-widgets/controls",
      "_model_module_version": "1.5.0",
      "_model_name": "FloatProgressModel",
      "_view_count": null,
      "_view_module": "@jupyter-widgets/controls",
      "_view_module_version": "1.5.0",
      "_view_name": "ProgressView",
      "bar_style": "success",
      "description": "",
      "description_tooltip": null,
      "layout": "IPY_MODEL_60e110e9296446f8952e8765ebf866d0",
      "max": 36,
      "min": 0,
      "orientation": "horizontal",
      "style": "IPY_MODEL_911f8099be1a448da831eaaa878c0520",
      "value": 36
     }
    },
    "78dcae420ae0450e96de3c697ba9f7d1": {
     "model_module": "@jupyter-widgets/controls",
     "model_module_version": "1.5.0",
     "model_name": "HTMLModel",
     "state": {
      "_dom_classes": [],
      "_model_module": "@jupyter-widgets/controls",
      "_model_module_version": "1.5.0",
      "_model_name": "HTMLModel",
      "_view_count": null,
      "_view_module": "@jupyter-widgets/controls",
      "_view_module_version": "1.5.0",
      "_view_name": "HTMLView",
      "description": "",
      "description_tooltip": null,
      "layout": "IPY_MODEL_8dd3f7bb1c104294993e0cfbd519a6d1",
      "placeholder": "​",
      "style": "IPY_MODEL_5f7edaf201484839b8c96e9f1ddf9249",
      "value": "  0%"
     }
    },
    "8091790c24914135af23e0274de1d01e": {
     "model_module": "@jupyter-widgets/base",
     "model_module_version": "1.2.0",
     "model_name": "LayoutModel",
     "state": {
      "_model_module": "@jupyter-widgets/base",
      "_model_module_version": "1.2.0",
      "_model_name": "LayoutModel",
      "_view_count": null,
      "_view_module": "@jupyter-widgets/base",
      "_view_module_version": "1.2.0",
      "_view_name": "LayoutView",
      "align_content": null,
      "align_items": null,
      "align_self": null,
      "border": null,
      "bottom": null,
      "display": null,
      "flex": null,
      "flex_flow": null,
      "grid_area": null,
      "grid_auto_columns": null,
      "grid_auto_flow": null,
      "grid_auto_rows": null,
      "grid_column": null,
      "grid_gap": null,
      "grid_row": null,
      "grid_template_areas": null,
      "grid_template_columns": null,
      "grid_template_rows": null,
      "height": null,
      "justify_content": null,
      "justify_items": null,
      "left": null,
      "margin": null,
      "max_height": null,
      "max_width": null,
      "min_height": null,
      "min_width": null,
      "object_fit": null,
      "object_position": null,
      "order": null,
      "overflow": null,
      "overflow_x": null,
      "overflow_y": null,
      "padding": null,
      "right": null,
      "top": null,
      "visibility": null,
      "width": null
     }
    },
    "81d82a5d97d0418e8b5b4ee26034512a": {
     "model_module": "@jupyter-widgets/controls",
     "model_module_version": "1.5.0",
     "model_name": "HBoxModel",
     "state": {
      "_dom_classes": [],
      "_model_module": "@jupyter-widgets/controls",
      "_model_module_version": "1.5.0",
      "_model_name": "HBoxModel",
      "_view_count": null,
      "_view_module": "@jupyter-widgets/controls",
      "_view_module_version": "1.5.0",
      "_view_name": "HBoxView",
      "box_style": "",
      "children": [
       "IPY_MODEL_9defc6a2222f4c8cbcbca5737914c7bd",
       "IPY_MODEL_f44c618489c54bc6bdb7f9aeb69add45",
       "IPY_MODEL_865673bb21324467ae0486ac7acf5bb5"
      ],
      "layout": "IPY_MODEL_00eed77860264e548fec56b3f10ad242"
     }
    },
    "81dee0b7215f4627835c5fcfbbbcf357": {
     "model_module": "@jupyter-widgets/controls",
     "model_module_version": "1.5.0",
     "model_name": "DescriptionStyleModel",
     "state": {
      "_model_module": "@jupyter-widgets/controls",
      "_model_module_version": "1.5.0",
      "_model_name": "DescriptionStyleModel",
      "_view_count": null,
      "_view_module": "@jupyter-widgets/base",
      "_view_module_version": "1.2.0",
      "_view_name": "StyleView",
      "description_width": ""
     }
    },
    "865673bb21324467ae0486ac7acf5bb5": {
     "model_module": "@jupyter-widgets/controls",
     "model_module_version": "1.5.0",
     "model_name": "HTMLModel",
     "state": {
      "_dom_classes": [],
      "_model_module": "@jupyter-widgets/controls",
      "_model_module_version": "1.5.0",
      "_model_name": "HTMLModel",
      "_view_count": null,
      "_view_module": "@jupyter-widgets/controls",
      "_view_module_version": "1.5.0",
      "_view_name": "HTMLView",
      "description": "",
      "description_tooltip": null,
      "layout": "IPY_MODEL_55bb59a8f5f547ac91cdb04e326be604",
      "placeholder": "​",
      "style": "IPY_MODEL_13aa8e0924634617b1914177b12507bc",
      "value": " 36/36 [00:42&lt;00:00,  3.76s/it]"
     }
    },
    "8d6bbc267774484baf5acc0b522a5e4c": {
     "model_module": "@jupyter-widgets/base",
     "model_module_version": "1.2.0",
     "model_name": "LayoutModel",
     "state": {
      "_model_module": "@jupyter-widgets/base",
      "_model_module_version": "1.2.0",
      "_model_name": "LayoutModel",
      "_view_count": null,
      "_view_module": "@jupyter-widgets/base",
      "_view_module_version": "1.2.0",
      "_view_name": "LayoutView",
      "align_content": null,
      "align_items": null,
      "align_self": null,
      "border": null,
      "bottom": null,
      "display": null,
      "flex": null,
      "flex_flow": null,
      "grid_area": null,
      "grid_auto_columns": null,
      "grid_auto_flow": null,
      "grid_auto_rows": null,
      "grid_column": null,
      "grid_gap": null,
      "grid_row": null,
      "grid_template_areas": null,
      "grid_template_columns": null,
      "grid_template_rows": null,
      "height": null,
      "justify_content": null,
      "justify_items": null,
      "left": null,
      "margin": null,
      "max_height": null,
      "max_width": null,
      "min_height": null,
      "min_width": null,
      "object_fit": null,
      "object_position": null,
      "order": null,
      "overflow": null,
      "overflow_x": null,
      "overflow_y": null,
      "padding": null,
      "right": null,
      "top": null,
      "visibility": null,
      "width": null
     }
    },
    "8dd3f7bb1c104294993e0cfbd519a6d1": {
     "model_module": "@jupyter-widgets/base",
     "model_module_version": "1.2.0",
     "model_name": "LayoutModel",
     "state": {
      "_model_module": "@jupyter-widgets/base",
      "_model_module_version": "1.2.0",
      "_model_name": "LayoutModel",
      "_view_count": null,
      "_view_module": "@jupyter-widgets/base",
      "_view_module_version": "1.2.0",
      "_view_name": "LayoutView",
      "align_content": null,
      "align_items": null,
      "align_self": null,
      "border": null,
      "bottom": null,
      "display": null,
      "flex": null,
      "flex_flow": null,
      "grid_area": null,
      "grid_auto_columns": null,
      "grid_auto_flow": null,
      "grid_auto_rows": null,
      "grid_column": null,
      "grid_gap": null,
      "grid_row": null,
      "grid_template_areas": null,
      "grid_template_columns": null,
      "grid_template_rows": null,
      "height": null,
      "justify_content": null,
      "justify_items": null,
      "left": null,
      "margin": null,
      "max_height": null,
      "max_width": null,
      "min_height": null,
      "min_width": null,
      "object_fit": null,
      "object_position": null,
      "order": null,
      "overflow": null,
      "overflow_x": null,
      "overflow_y": null,
      "padding": null,
      "right": null,
      "top": null,
      "visibility": null,
      "width": null
     }
    },
    "911f8099be1a448da831eaaa878c0520": {
     "model_module": "@jupyter-widgets/controls",
     "model_module_version": "1.5.0",
     "model_name": "ProgressStyleModel",
     "state": {
      "_model_module": "@jupyter-widgets/controls",
      "_model_module_version": "1.5.0",
      "_model_name": "ProgressStyleModel",
      "_view_count": null,
      "_view_module": "@jupyter-widgets/base",
      "_view_module_version": "1.2.0",
      "_view_name": "StyleView",
      "bar_color": null,
      "description_width": ""
     }
    },
    "91feb38cc46d49eea18ada089aa2080e": {
     "model_module": "@jupyter-widgets/controls",
     "model_module_version": "1.5.0",
     "model_name": "ProgressStyleModel",
     "state": {
      "_model_module": "@jupyter-widgets/controls",
      "_model_module_version": "1.5.0",
      "_model_name": "ProgressStyleModel",
      "_view_count": null,
      "_view_module": "@jupyter-widgets/base",
      "_view_module_version": "1.2.0",
      "_view_name": "StyleView",
      "bar_color": null,
      "description_width": ""
     }
    },
    "944b559b4b484a338e63e2c27e7a7bd1": {
     "model_module": "@jupyter-widgets/base",
     "model_module_version": "1.2.0",
     "model_name": "LayoutModel",
     "state": {
      "_model_module": "@jupyter-widgets/base",
      "_model_module_version": "1.2.0",
      "_model_name": "LayoutModel",
      "_view_count": null,
      "_view_module": "@jupyter-widgets/base",
      "_view_module_version": "1.2.0",
      "_view_name": "LayoutView",
      "align_content": null,
      "align_items": null,
      "align_self": null,
      "border": null,
      "bottom": null,
      "display": null,
      "flex": null,
      "flex_flow": null,
      "grid_area": null,
      "grid_auto_columns": null,
      "grid_auto_flow": null,
      "grid_auto_rows": null,
      "grid_column": null,
      "grid_gap": null,
      "grid_row": null,
      "grid_template_areas": null,
      "grid_template_columns": null,
      "grid_template_rows": null,
      "height": null,
      "justify_content": null,
      "justify_items": null,
      "left": null,
      "margin": null,
      "max_height": null,
      "max_width": null,
      "min_height": null,
      "min_width": null,
      "object_fit": null,
      "object_position": null,
      "order": null,
      "overflow": null,
      "overflow_x": null,
      "overflow_y": null,
      "padding": null,
      "right": null,
      "top": null,
      "visibility": null,
      "width": null
     }
    },
    "946cd24ea7da496ba98a3fd9b44e8272": {
     "model_module": "@jupyter-widgets/controls",
     "model_module_version": "1.5.0",
     "model_name": "HTMLModel",
     "state": {
      "_dom_classes": [],
      "_model_module": "@jupyter-widgets/controls",
      "_model_module_version": "1.5.0",
      "_model_name": "HTMLModel",
      "_view_count": null,
      "_view_module": "@jupyter-widgets/controls",
      "_view_module_version": "1.5.0",
      "_view_name": "HTMLView",
      "description": "",
      "description_tooltip": null,
      "layout": "IPY_MODEL_944b559b4b484a338e63e2c27e7a7bd1",
      "placeholder": "​",
      "style": "IPY_MODEL_81dee0b7215f4627835c5fcfbbbcf357",
      "value": "100%"
     }
    },
    "95daf3b40eef4d9fbc6e27b005367c44": {
     "model_module": "@jupyter-widgets/controls",
     "model_module_version": "1.5.0",
     "model_name": "HBoxModel",
     "state": {
      "_dom_classes": [],
      "_model_module": "@jupyter-widgets/controls",
      "_model_module_version": "1.5.0",
      "_model_name": "HBoxModel",
      "_view_count": null,
      "_view_module": "@jupyter-widgets/controls",
      "_view_module_version": "1.5.0",
      "_view_name": "HBoxView",
      "box_style": "",
      "children": [
       "IPY_MODEL_78dcae420ae0450e96de3c697ba9f7d1",
       "IPY_MODEL_d823f423ef9f447cafc43494a8f31991",
       "IPY_MODEL_54a1ba489aaf4b5d9cc856f267564bb9"
      ],
      "layout": "IPY_MODEL_41fdf0288abe4dcf8f4599fddfe1a66c"
     }
    },
    "9a137d46200c431abd707e4972df5e7d": {
     "model_module": "@jupyter-widgets/controls",
     "model_module_version": "1.5.0",
     "model_name": "HTMLModel",
     "state": {
      "_dom_classes": [],
      "_model_module": "@jupyter-widgets/controls",
      "_model_module_version": "1.5.0",
      "_model_name": "HTMLModel",
      "_view_count": null,
      "_view_module": "@jupyter-widgets/controls",
      "_view_module_version": "1.5.0",
      "_view_name": "HTMLView",
      "description": "",
      "description_tooltip": null,
      "layout": "IPY_MODEL_59b6b7687ae542da8f9d9f3cfe701fcb",
      "placeholder": "​",
      "style": "IPY_MODEL_d160fc0de2c64147bfea4cea34998eb4",
      "value": " 36/36 [00:01&lt;00:00, 27.00it/s]"
     }
    },
    "9defc6a2222f4c8cbcbca5737914c7bd": {
     "model_module": "@jupyter-widgets/controls",
     "model_module_version": "1.5.0",
     "model_name": "HTMLModel",
     "state": {
      "_dom_classes": [],
      "_model_module": "@jupyter-widgets/controls",
      "_model_module_version": "1.5.0",
      "_model_name": "HTMLModel",
      "_view_count": null,
      "_view_module": "@jupyter-widgets/controls",
      "_view_module_version": "1.5.0",
      "_view_name": "HTMLView",
      "description": "",
      "description_tooltip": null,
      "layout": "IPY_MODEL_e00d3afe37114136aa77186bf656c0e2",
      "placeholder": "​",
      "style": "IPY_MODEL_d2fe1627637d46dd85433cb277ae3595",
      "value": "100%"
     }
    },
    "9eb15809593f45faa9580cbd43a88a27": {
     "model_module": "@jupyter-widgets/controls",
     "model_module_version": "1.5.0",
     "model_name": "HTMLModel",
     "state": {
      "_dom_classes": [],
      "_model_module": "@jupyter-widgets/controls",
      "_model_module_version": "1.5.0",
      "_model_name": "HTMLModel",
      "_view_count": null,
      "_view_module": "@jupyter-widgets/controls",
      "_view_module_version": "1.5.0",
      "_view_name": "HTMLView",
      "description": "",
      "description_tooltip": null,
      "layout": "IPY_MODEL_5e6089f225c44fe88b369a7bfa7f4e2a",
      "placeholder": "​",
      "style": "IPY_MODEL_357bbdfab5b44a42b3798dfb6bb2e661",
      "value": " 36/36 [00:07&lt;00:00,  3.93it/s]"
     }
    },
    "a6d8da8b9e3a434ca11dc73557cd50fb": {
     "model_module": "@jupyter-widgets/base",
     "model_module_version": "1.2.0",
     "model_name": "LayoutModel",
     "state": {
      "_model_module": "@jupyter-widgets/base",
      "_model_module_version": "1.2.0",
      "_model_name": "LayoutModel",
      "_view_count": null,
      "_view_module": "@jupyter-widgets/base",
      "_view_module_version": "1.2.0",
      "_view_name": "LayoutView",
      "align_content": null,
      "align_items": null,
      "align_self": null,
      "border": null,
      "bottom": null,
      "display": null,
      "flex": null,
      "flex_flow": null,
      "grid_area": null,
      "grid_auto_columns": null,
      "grid_auto_flow": null,
      "grid_auto_rows": null,
      "grid_column": null,
      "grid_gap": null,
      "grid_row": null,
      "grid_template_areas": null,
      "grid_template_columns": null,
      "grid_template_rows": null,
      "height": null,
      "justify_content": null,
      "justify_items": null,
      "left": null,
      "margin": null,
      "max_height": null,
      "max_width": null,
      "min_height": null,
      "min_width": null,
      "object_fit": null,
      "object_position": null,
      "order": null,
      "overflow": null,
      "overflow_x": null,
      "overflow_y": null,
      "padding": null,
      "right": null,
      "top": null,
      "visibility": null,
      "width": null
     }
    },
    "a72518644f604f02bb82c24901097a4e": {
     "model_module": "@jupyter-widgets/controls",
     "model_module_version": "1.5.0",
     "model_name": "HBoxModel",
     "state": {
      "_dom_classes": [],
      "_model_module": "@jupyter-widgets/controls",
      "_model_module_version": "1.5.0",
      "_model_name": "HBoxModel",
      "_view_count": null,
      "_view_module": "@jupyter-widgets/controls",
      "_view_module_version": "1.5.0",
      "_view_name": "HBoxView",
      "box_style": "",
      "children": [
       "IPY_MODEL_946cd24ea7da496ba98a3fd9b44e8272",
       "IPY_MODEL_ce39d4c9cd904b11b13c803baa9d8425",
       "IPY_MODEL_fde351e026fa4707b825165af0c366d7"
      ],
      "layout": "IPY_MODEL_522001d2e5d0424fb9815f30a9df0603"
     }
    },
    "a8d530263134435e8ff053c06c3ea831": {
     "model_module": "@jupyter-widgets/base",
     "model_module_version": "1.2.0",
     "model_name": "LayoutModel",
     "state": {
      "_model_module": "@jupyter-widgets/base",
      "_model_module_version": "1.2.0",
      "_model_name": "LayoutModel",
      "_view_count": null,
      "_view_module": "@jupyter-widgets/base",
      "_view_module_version": "1.2.0",
      "_view_name": "LayoutView",
      "align_content": null,
      "align_items": null,
      "align_self": null,
      "border": null,
      "bottom": null,
      "display": null,
      "flex": null,
      "flex_flow": null,
      "grid_area": null,
      "grid_auto_columns": null,
      "grid_auto_flow": null,
      "grid_auto_rows": null,
      "grid_column": null,
      "grid_gap": null,
      "grid_row": null,
      "grid_template_areas": null,
      "grid_template_columns": null,
      "grid_template_rows": null,
      "height": null,
      "justify_content": null,
      "justify_items": null,
      "left": null,
      "margin": null,
      "max_height": null,
      "max_width": null,
      "min_height": null,
      "min_width": null,
      "object_fit": null,
      "object_position": null,
      "order": null,
      "overflow": null,
      "overflow_x": null,
      "overflow_y": null,
      "padding": null,
      "right": null,
      "top": null,
      "visibility": null,
      "width": null
     }
    },
    "aabe48593d5248478ec9123bd8a4f0b1": {
     "model_module": "@jupyter-widgets/controls",
     "model_module_version": "1.5.0",
     "model_name": "DescriptionStyleModel",
     "state": {
      "_model_module": "@jupyter-widgets/controls",
      "_model_module_version": "1.5.0",
      "_model_name": "DescriptionStyleModel",
      "_view_count": null,
      "_view_module": "@jupyter-widgets/base",
      "_view_module_version": "1.2.0",
      "_view_name": "StyleView",
      "description_width": ""
     }
    },
    "b64221dd12cf4d23b185a77f1627d37f": {
     "model_module": "@jupyter-widgets/controls",
     "model_module_version": "1.5.0",
     "model_name": "HTMLModel",
     "state": {
      "_dom_classes": [],
      "_model_module": "@jupyter-widgets/controls",
      "_model_module_version": "1.5.0",
      "_model_name": "HTMLModel",
      "_view_count": null,
      "_view_module": "@jupyter-widgets/controls",
      "_view_module_version": "1.5.0",
      "_view_name": "HTMLView",
      "description": "",
      "description_tooltip": null,
      "layout": "IPY_MODEL_bc985728e28a4fd8aa2e589cd5a2e180",
      "placeholder": "​",
      "style": "IPY_MODEL_aabe48593d5248478ec9123bd8a4f0b1",
      "value": "100%"
     }
    },
    "bc985728e28a4fd8aa2e589cd5a2e180": {
     "model_module": "@jupyter-widgets/base",
     "model_module_version": "1.2.0",
     "model_name": "LayoutModel",
     "state": {
      "_model_module": "@jupyter-widgets/base",
      "_model_module_version": "1.2.0",
      "_model_name": "LayoutModel",
      "_view_count": null,
      "_view_module": "@jupyter-widgets/base",
      "_view_module_version": "1.2.0",
      "_view_name": "LayoutView",
      "align_content": null,
      "align_items": null,
      "align_self": null,
      "border": null,
      "bottom": null,
      "display": null,
      "flex": null,
      "flex_flow": null,
      "grid_area": null,
      "grid_auto_columns": null,
      "grid_auto_flow": null,
      "grid_auto_rows": null,
      "grid_column": null,
      "grid_gap": null,
      "grid_row": null,
      "grid_template_areas": null,
      "grid_template_columns": null,
      "grid_template_rows": null,
      "height": null,
      "justify_content": null,
      "justify_items": null,
      "left": null,
      "margin": null,
      "max_height": null,
      "max_width": null,
      "min_height": null,
      "min_width": null,
      "object_fit": null,
      "object_position": null,
      "order": null,
      "overflow": null,
      "overflow_x": null,
      "overflow_y": null,
      "padding": null,
      "right": null,
      "top": null,
      "visibility": null,
      "width": null
     }
    },
    "c2376cfc1d9c4bcd961c288b8c75244d": {
     "model_module": "@jupyter-widgets/controls",
     "model_module_version": "1.5.0",
     "model_name": "ProgressStyleModel",
     "state": {
      "_model_module": "@jupyter-widgets/controls",
      "_model_module_version": "1.5.0",
      "_model_name": "ProgressStyleModel",
      "_view_count": null,
      "_view_module": "@jupyter-widgets/base",
      "_view_module_version": "1.2.0",
      "_view_name": "StyleView",
      "bar_color": null,
      "description_width": ""
     }
    },
    "c5fce73fbf114f39ad06a33b92ab31d0": {
     "model_module": "@jupyter-widgets/base",
     "model_module_version": "1.2.0",
     "model_name": "LayoutModel",
     "state": {
      "_model_module": "@jupyter-widgets/base",
      "_model_module_version": "1.2.0",
      "_model_name": "LayoutModel",
      "_view_count": null,
      "_view_module": "@jupyter-widgets/base",
      "_view_module_version": "1.2.0",
      "_view_name": "LayoutView",
      "align_content": null,
      "align_items": null,
      "align_self": null,
      "border": null,
      "bottom": null,
      "display": null,
      "flex": null,
      "flex_flow": null,
      "grid_area": null,
      "grid_auto_columns": null,
      "grid_auto_flow": null,
      "grid_auto_rows": null,
      "grid_column": null,
      "grid_gap": null,
      "grid_row": null,
      "grid_template_areas": null,
      "grid_template_columns": null,
      "grid_template_rows": null,
      "height": null,
      "justify_content": null,
      "justify_items": null,
      "left": null,
      "margin": null,
      "max_height": null,
      "max_width": null,
      "min_height": null,
      "min_width": null,
      "object_fit": null,
      "object_position": null,
      "order": null,
      "overflow": null,
      "overflow_x": null,
      "overflow_y": null,
      "padding": null,
      "right": null,
      "top": null,
      "visibility": null,
      "width": null
     }
    },
    "ce39d4c9cd904b11b13c803baa9d8425": {
     "model_module": "@jupyter-widgets/controls",
     "model_module_version": "1.5.0",
     "model_name": "FloatProgressModel",
     "state": {
      "_dom_classes": [],
      "_model_module": "@jupyter-widgets/controls",
      "_model_module_version": "1.5.0",
      "_model_name": "FloatProgressModel",
      "_view_count": null,
      "_view_module": "@jupyter-widgets/controls",
      "_view_module_version": "1.5.0",
      "_view_name": "ProgressView",
      "bar_style": "success",
      "description": "",
      "description_tooltip": null,
      "layout": "IPY_MODEL_45451e7732554c77bfcbfb0cdbe04a5d",
      "max": 67,
      "min": 0,
      "orientation": "horizontal",
      "style": "IPY_MODEL_91feb38cc46d49eea18ada089aa2080e",
      "value": 67
     }
    },
    "d160fc0de2c64147bfea4cea34998eb4": {
     "model_module": "@jupyter-widgets/controls",
     "model_module_version": "1.5.0",
     "model_name": "DescriptionStyleModel",
     "state": {
      "_model_module": "@jupyter-widgets/controls",
      "_model_module_version": "1.5.0",
      "_model_name": "DescriptionStyleModel",
      "_view_count": null,
      "_view_module": "@jupyter-widgets/base",
      "_view_module_version": "1.2.0",
      "_view_name": "StyleView",
      "description_width": ""
     }
    },
    "d2fe1627637d46dd85433cb277ae3595": {
     "model_module": "@jupyter-widgets/controls",
     "model_module_version": "1.5.0",
     "model_name": "DescriptionStyleModel",
     "state": {
      "_model_module": "@jupyter-widgets/controls",
      "_model_module_version": "1.5.0",
      "_model_name": "DescriptionStyleModel",
      "_view_count": null,
      "_view_module": "@jupyter-widgets/base",
      "_view_module_version": "1.2.0",
      "_view_name": "StyleView",
      "description_width": ""
     }
    },
    "d823f423ef9f447cafc43494a8f31991": {
     "model_module": "@jupyter-widgets/controls",
     "model_module_version": "1.5.0",
     "model_name": "FloatProgressModel",
     "state": {
      "_dom_classes": [],
      "_model_module": "@jupyter-widgets/controls",
      "_model_module_version": "1.5.0",
      "_model_name": "FloatProgressModel",
      "_view_count": null,
      "_view_module": "@jupyter-widgets/controls",
      "_view_module_version": "1.5.0",
      "_view_name": "ProgressView",
      "bar_style": "",
      "description": "",
      "description_tooltip": null,
      "layout": "IPY_MODEL_a8d530263134435e8ff053c06c3ea831",
      "max": 36,
      "min": 0,
      "orientation": "horizontal",
      "style": "IPY_MODEL_06544b4d66dc45c7951372cba99df5f2",
      "value": 0
     }
    },
    "d8a7bc4fbf0e4cdb8f70877793d06d8c": {
     "model_module": "@jupyter-widgets/controls",
     "model_module_version": "1.5.0",
     "model_name": "HBoxModel",
     "state": {
      "_dom_classes": [],
      "_model_module": "@jupyter-widgets/controls",
      "_model_module_version": "1.5.0",
      "_model_name": "HBoxModel",
      "_view_count": null,
      "_view_module": "@jupyter-widgets/controls",
      "_view_module_version": "1.5.0",
      "_view_name": "HBoxView",
      "box_style": "",
      "children": [
       "IPY_MODEL_b64221dd12cf4d23b185a77f1627d37f",
       "IPY_MODEL_e56c46bf26c74c2799ed9e5f2491be65",
       "IPY_MODEL_9eb15809593f45faa9580cbd43a88a27"
      ],
      "layout": "IPY_MODEL_26b28ce1f9e04cc3964aab60ca9f232f"
     }
    },
    "e00d3afe37114136aa77186bf656c0e2": {
     "model_module": "@jupyter-widgets/base",
     "model_module_version": "1.2.0",
     "model_name": "LayoutModel",
     "state": {
      "_model_module": "@jupyter-widgets/base",
      "_model_module_version": "1.2.0",
      "_model_name": "LayoutModel",
      "_view_count": null,
      "_view_module": "@jupyter-widgets/base",
      "_view_module_version": "1.2.0",
      "_view_name": "LayoutView",
      "align_content": null,
      "align_items": null,
      "align_self": null,
      "border": null,
      "bottom": null,
      "display": null,
      "flex": null,
      "flex_flow": null,
      "grid_area": null,
      "grid_auto_columns": null,
      "grid_auto_flow": null,
      "grid_auto_rows": null,
      "grid_column": null,
      "grid_gap": null,
      "grid_row": null,
      "grid_template_areas": null,
      "grid_template_columns": null,
      "grid_template_rows": null,
      "height": null,
      "justify_content": null,
      "justify_items": null,
      "left": null,
      "margin": null,
      "max_height": null,
      "max_width": null,
      "min_height": null,
      "min_width": null,
      "object_fit": null,
      "object_position": null,
      "order": null,
      "overflow": null,
      "overflow_x": null,
      "overflow_y": null,
      "padding": null,
      "right": null,
      "top": null,
      "visibility": null,
      "width": null
     }
    },
    "e037c7cd15dd43bdbd0ff8820b8e7156": {
     "model_module": "@jupyter-widgets/controls",
     "model_module_version": "1.5.0",
     "model_name": "HBoxModel",
     "state": {
      "_dom_classes": [],
      "_model_module": "@jupyter-widgets/controls",
      "_model_module_version": "1.5.0",
      "_model_name": "HBoxModel",
      "_view_count": null,
      "_view_module": "@jupyter-widgets/controls",
      "_view_module_version": "1.5.0",
      "_view_name": "HBoxView",
      "box_style": "",
      "children": [
       "IPY_MODEL_38ee5303365f41b8adad421bf4b3ada0",
       "IPY_MODEL_6ff9401ba0d24a228545ed9ec974d2ab",
       "IPY_MODEL_9a137d46200c431abd707e4972df5e7d"
      ],
      "layout": "IPY_MODEL_8d6bbc267774484baf5acc0b522a5e4c"
     }
    },
    "e56c46bf26c74c2799ed9e5f2491be65": {
     "model_module": "@jupyter-widgets/controls",
     "model_module_version": "1.5.0",
     "model_name": "FloatProgressModel",
     "state": {
      "_dom_classes": [],
      "_model_module": "@jupyter-widgets/controls",
      "_model_module_version": "1.5.0",
      "_model_name": "FloatProgressModel",
      "_view_count": null,
      "_view_module": "@jupyter-widgets/controls",
      "_view_module_version": "1.5.0",
      "_view_name": "ProgressView",
      "bar_style": "success",
      "description": "",
      "description_tooltip": null,
      "layout": "IPY_MODEL_a6d8da8b9e3a434ca11dc73557cd50fb",
      "max": 36,
      "min": 0,
      "orientation": "horizontal",
      "style": "IPY_MODEL_c2376cfc1d9c4bcd961c288b8c75244d",
      "value": 36
     }
    },
    "f44c618489c54bc6bdb7f9aeb69add45": {
     "model_module": "@jupyter-widgets/controls",
     "model_module_version": "1.5.0",
     "model_name": "FloatProgressModel",
     "state": {
      "_dom_classes": [],
      "_model_module": "@jupyter-widgets/controls",
      "_model_module_version": "1.5.0",
      "_model_name": "FloatProgressModel",
      "_view_count": null,
      "_view_module": "@jupyter-widgets/controls",
      "_view_module_version": "1.5.0",
      "_view_name": "ProgressView",
      "bar_style": "success",
      "description": "",
      "description_tooltip": null,
      "layout": "IPY_MODEL_21aedc80399140e9b7d51717d2835651",
      "max": 36,
      "min": 0,
      "orientation": "horizontal",
      "style": "IPY_MODEL_2287cf0fed86493880f3b428960c8cee",
      "value": 36
     }
    },
    "fde351e026fa4707b825165af0c366d7": {
     "model_module": "@jupyter-widgets/controls",
     "model_module_version": "1.5.0",
     "model_name": "HTMLModel",
     "state": {
      "_dom_classes": [],
      "_model_module": "@jupyter-widgets/controls",
      "_model_module_version": "1.5.0",
      "_model_name": "HTMLModel",
      "_view_count": null,
      "_view_module": "@jupyter-widgets/controls",
      "_view_module_version": "1.5.0",
      "_view_name": "HTMLView",
      "description": "",
      "description_tooltip": null,
      "layout": "IPY_MODEL_5b7f035c479e407fb6ec8b13cfc05f41",
      "placeholder": "​",
      "style": "IPY_MODEL_17c2c7ec928a4b26bc1e4b274e557345",
      "value": " 67/67 [03:48&lt;00:00,  1.03it/s]"
     }
    }
   }
  }
 },
 "nbformat": 4,
 "nbformat_minor": 4
}
